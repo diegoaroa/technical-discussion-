{
  "nbformat": 4,
  "nbformat_minor": 0,
  "metadata": {
    "colab": {
      "name": "Some_R.ipynb",
      "provenance": [],
      "authorship_tag": "ABX9TyNnVwYVibZt/nk4v+VaACWp",
      "include_colab_link": true
    },
    "kernelspec": {
      "name": "python3",
      "display_name": "Python 3"
    },
    "language_info": {
      "name": "python"
    }
  },
  "cells": [
    {
      "cell_type": "markdown",
      "metadata": {
        "id": "view-in-github",
        "colab_type": "text"
      },
      "source": [
        "<a href=\"https://colab.research.google.com/github/diegoaroa/technical-discussion-/blob/main/Some_R.ipynb\" target=\"_parent\"><img src=\"https://colab.research.google.com/assets/colab-badge.svg\" alt=\"Open In Colab\"/></a>"
      ]
    },
    {
      "cell_type": "code",
      "metadata": {
        "id": "HNdXAA-7B_xC"
      },
      "source": [
        "%load_ext rpy2.ipython"
      ],
      "execution_count": 2,
      "outputs": []
    },
    {
      "cell_type": "code",
      "metadata": {
        "colab": {
          "base_uri": "https://localhost:8080/"
        },
        "id": "RJkGBHp0CC1r",
        "outputId": "24a1f471-2802-4c4f-de7e-f2627a9a94a1"
      },
      "source": [
        "%%R\n",
        "two_dice <- data.frame(c(1:6, 1:6))\n",
        "two_dice"
      ],
      "execution_count": 6,
      "outputs": [
        {
          "output_type": "stream",
          "name": "stdout",
          "text": [
            "   c.1.6..1.6.\n",
            "1            1\n",
            "2            2\n",
            "3            3\n",
            "4            4\n",
            "5            5\n",
            "6            6\n",
            "7            1\n",
            "8            2\n",
            "9            3\n",
            "10           4\n",
            "11           5\n",
            "12           6\n"
          ]
        }
      ]
    },
    {
      "cell_type": "code",
      "metadata": {
        "id": "wlvHxKPcCrfm"
      },
      "source": [
        ""
      ],
      "execution_count": null,
      "outputs": []
    }
  ]
}